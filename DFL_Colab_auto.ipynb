{
  "nbformat": 4,
  "nbformat_minor": 0,
  "metadata": {
    "colab": {
      "name": "DFL_Colab.ipynb",
      "provenance": [],
      "collapsed_sections": [
        "IYtWMzOvLQ3s",
        "BDg_jiQ9adQe",
        "JuVn21kt40Gw",
        "hqwOlJG4MdLC",
        "tUNVcbujhm00",
        "WTuyUxgdLA13",
        "avAcSL_uvtq_"
      ],
      "include_colab_link": true
    },
    "kernelspec": {
      "name": "python3",
      "display_name": "Python 3"
    },
    "accelerator": "GPU"
  },
  "cells": [
    {
      "cell_type": "markdown",
      "metadata": {
        "id": "view-in-github",
        "colab_type": "text"
      },
      "source": [
        "<a href=\"https://colab.research.google.com/github/beinghorizontal/deepface/blob/main/DFL_Colab_auto.ipynb\" target=\"_parent\"><img src=\"https://colab.research.google.com/assets/colab-badge.svg\" alt=\"Open In Colab\"/></a>"
      ]
    },
    {
      "cell_type": "markdown",
      "metadata": {
        "id": "0cKdTCuv4tXh"
      },
      "source": [
        "# Welcome to DFL-Colab!\n",
        "\n",
        "This is an adapted version of the DFL for Google Colab.\n",
        "\n",
        "\n",
        "# Overview\n",
        "*   Extractor works in full functionality.\n",
        "*   Training can work without preview.\n",
        "*   Merger works in full functionality.\n",
        "*   You can import/export workspace with your Google Drive.\n",
        "*   Import/export and another manipulations with workspace you can do in \"Manage workspace\" block\n",
        "*   Google Colab machine active for 12 hours. DFL-Colab makes a backup of your workspace in training mode.\n",
        "*   Google does not like long-term heavy calculations. Therefore, for training more than two sessions in a row, use two Google accounts. It is recommended to split your training over 2 accounts, but you can use one Google Drive account to store your workspace.\n",
        "\n"
      ]
    },
    {
      "cell_type": "markdown",
      "metadata": {
        "id": "IYtWMzOvLQ3s"
      },
      "source": [
        "## Prevent random disconnects\n",
        "\n",
        "This cell runs JS code to automatic reconnect to runtime."
      ]
    },
    {
      "cell_type": "code",
      "metadata": {
        "id": "jtClEMAMLVHw",
        "outputId": "5e3aa444-f851-4aaa-b2ea-f50afe4e6d7f",
        "colab": {
          "base_uri": "https://localhost:8080/",
          "height": 34
        }
      },
      "source": [
        "import IPython\n",
        "from google.colab import output\n",
        "\n",
        "display(IPython.display.Javascript('''\n",
        " function ClickConnect(){\n",
        "   btn = document.querySelector(\"colab-connect-button\")\n",
        "   if (btn != null){\n",
        "     console.log(\"Click colab-connect-button\"); \n",
        "     btn.click() \n",
        "     }\n",
        "   \n",
        "   btn = document.getElementById('ok')\n",
        "   if (btn != null){\n",
        "     console.log(\"Click reconnect\"); \n",
        "     btn.click() \n",
        "     }\n",
        "  }\n",
        "  \n",
        "setInterval(ClickConnect,60000)\n",
        "'''))\n",
        "\n",
        "print(\"Done.\")"
      ],
      "execution_count": 2,
      "outputs": [
        {
          "output_type": "display_data",
          "data": {
            "text/plain": [
              "<IPython.core.display.Javascript object>"
            ],
            "application/javascript": [
              "\n",
              " function ClickConnect(){\n",
              "   btn = document.querySelector(\"colab-connect-button\")\n",
              "   if (btn != null){\n",
              "     console.log(\"Click colab-connect-button\"); \n",
              "     btn.click() \n",
              "     }\n",
              "   \n",
              "   btn = document.getElementById('ok')\n",
              "   if (btn != null){\n",
              "     console.log(\"Click reconnect\"); \n",
              "     btn.click() \n",
              "     }\n",
              "  }\n",
              "  \n",
              "setInterval(ClickConnect,60000)\n"
            ]
          },
          "metadata": {}
        },
        {
          "output_type": "stream",
          "name": "stdout",
          "text": [
            "Done.\n"
          ]
        }
      ]
    },
    {
      "cell_type": "markdown",
      "metadata": {
        "id": "BDg_jiQ9adQe"
      },
      "source": [
        "## Check GPU\n",
        "\n",
        "*   Google Colab can provide you with one of Tesla graphics cards: K80, T4, P4 or P100\n",
        "*   Here you can check the model of GPU before using DeepFaceLab\n",
        "\n"
      ]
    },
    {
      "cell_type": "code",
      "metadata": {
        "id": "WJe71S6gbzt3",
        "outputId": "48fa31d9-f7bd-4d8e-8ac4-5ba01faf0a46",
        "colab": {
          "base_uri": "https://localhost:8080/"
        }
      },
      "source": [
        "!nvidia-smi"
      ],
      "execution_count": 3,
      "outputs": [
        {
          "output_type": "stream",
          "name": "stdout",
          "text": [
            "Sat Mar 11 03:08:43 2023       \n",
            "+-----------------------------------------------------------------------------+\n",
            "| NVIDIA-SMI 525.85.12    Driver Version: 525.85.12    CUDA Version: 12.0     |\n",
            "|-------------------------------+----------------------+----------------------+\n",
            "| GPU  Name        Persistence-M| Bus-Id        Disp.A | Volatile Uncorr. ECC |\n",
            "| Fan  Temp  Perf  Pwr:Usage/Cap|         Memory-Usage | GPU-Util  Compute M. |\n",
            "|                               |                      |               MIG M. |\n",
            "|===============================+======================+======================|\n",
            "|   0  Tesla T4            Off  | 00000000:00:04.0 Off |                    0 |\n",
            "| N/A   65C    P0    30W /  70W |      0MiB / 15360MiB |      0%      Default |\n",
            "|                               |                      |                  N/A |\n",
            "+-------------------------------+----------------------+----------------------+\n",
            "                                                                               \n",
            "+-----------------------------------------------------------------------------+\n",
            "| Processes:                                                                  |\n",
            "|  GPU   GI   CI        PID   Type   Process name                  GPU Memory |\n",
            "|        ID   ID                                                   Usage      |\n",
            "|=============================================================================|\n",
            "|  No running processes found                                                 |\n",
            "+-----------------------------------------------------------------------------+\n"
          ]
        }
      ]
    },
    {
      "cell_type": "markdown",
      "metadata": {
        "id": "JuVn21kt40Gw"
      },
      "source": [
        "## Install or update DeepFaceLab\n",
        "\n",
        "* Install or update DeepFAceLab directly from Github\n",
        "* Requirements install is automatically\n",
        "* Automatically sets timer to prevent random disconnects\n",
        "* \"Download FFHQ\" option means to download high quality FFHQ dataset instead of CelebA. FFHQ takes up more memory, so it will take longer to download than CelebA. It is recommended to enable this option if you are doing pretrain."
      ]
    },
    {
      "cell_type": "code",
      "source": [
        "!apt-get update\n",
        "!apt-get install -y libsm6 libxext6 libxrender-dev\n",
        "!pip install jedi\n",
        "!pip install --upgrade pip\n",
        "!pip install setuptools==64.0.2\n",
        "\n"
      ],
      "metadata": {
        "id": "3N42pCOaVLdw",
        "outputId": "a9100685-74cf-45ba-d96a-6bb9abb79209",
        "colab": {
          "base_uri": "https://localhost:8080/",
          "height": 1000
        }
      },
      "execution_count": 4,
      "outputs": [
        {
          "output_type": "stream",
          "name": "stdout",
          "text": [
            "\r0% [Working]\r            \rIgn:1 https://developer.download.nvidia.com/compute/machine-learning/repos/ubuntu2004/x86_64  InRelease\n",
            "\r0% [Connecting to archive.ubuntu.com (185.125.190.36)] [Waiting for headers] [C\r                                                                               \rGet:2 http://security.ubuntu.com/ubuntu focal-security InRelease [114 kB]\n",
            "\r0% [Waiting for headers] [2 InRelease 14.2 kB/114 kB 12%] [Connected to cloud.r\r                                                                               \rGet:3 https://developer.download.nvidia.com/compute/cuda/repos/ubuntu2004/x86_64  InRelease [1,581 B]\n",
            "Hit:4 https://developer.download.nvidia.com/compute/machine-learning/repos/ubuntu2004/x86_64  Release\n",
            "Hit:5 http://archive.ubuntu.com/ubuntu focal InRelease\n",
            "Hit:6 http://ppa.launchpad.net/c2d4u.team/c2d4u4.0+/ubuntu focal InRelease\n",
            "Get:7 https://developer.download.nvidia.com/compute/cuda/repos/ubuntu2004/x86_64  Packages [908 kB]\n",
            "Get:8 http://archive.ubuntu.com/ubuntu focal-updates InRelease [114 kB]\n",
            "Get:9 https://cloud.r-project.org/bin/linux/ubuntu focal-cran40/ InRelease [3,622 B]\n",
            "Hit:10 http://ppa.launchpad.net/cran/libgit2/ubuntu focal InRelease\n",
            "Hit:12 http://ppa.launchpad.net/deadsnakes/ppa/ubuntu focal InRelease\n",
            "Get:13 http://archive.ubuntu.com/ubuntu focal-backports InRelease [108 kB]\n",
            "Get:14 http://security.ubuntu.com/ubuntu focal-security/universe amd64 Packages [1,015 kB]\n",
            "Hit:15 http://ppa.launchpad.net/graphics-drivers/ppa/ubuntu focal InRelease\n",
            "Hit:16 http://ppa.launchpad.net/ubuntugis/ppa/ubuntu focal InRelease\n",
            "Get:17 http://archive.ubuntu.com/ubuntu focal-updates/main amd64 Packages [3,014 kB]\n",
            "Get:18 http://archive.ubuntu.com/ubuntu focal-updates/universe amd64 Packages [1,311 kB]\n",
            "Fetched 6,590 kB in 3s (2,518 kB/s)\n",
            "Reading package lists... Done\n",
            "Reading package lists... Done\n",
            "Building dependency tree       \n",
            "Reading state information... Done\n",
            "libsm6 is already the newest version (2:1.2.3-1).\n",
            "libxext6 is already the newest version (2:1.3.4-0ubuntu1).\n",
            "libxrender-dev is already the newest version (1:0.9.10-1).\n",
            "libxrender-dev set to manually installed.\n",
            "0 upgraded, 0 newly installed, 0 to remove and 22 not upgraded.\n",
            "Looking in indexes: https://pypi.org/simple, https://us-python.pkg.dev/colab-wheels/public/simple/\n",
            "Collecting jedi\n",
            "  Downloading jedi-0.18.2-py2.py3-none-any.whl (1.6 MB)\n",
            "\u001b[2K     \u001b[90m━━━━━━━━━━━━━━━━━━━━━━━━━━━━━━━━━━━━━━━━\u001b[0m \u001b[32m1.6/1.6 MB\u001b[0m \u001b[31m27.3 MB/s\u001b[0m eta \u001b[36m0:00:00\u001b[0m\n",
            "\u001b[?25hRequirement already satisfied: parso<0.9.0,>=0.8.0 in /usr/local/lib/python3.9/dist-packages (from jedi) (0.8.3)\n",
            "Installing collected packages: jedi\n",
            "Successfully installed jedi-0.18.2\n",
            "Looking in indexes: https://pypi.org/simple, https://us-python.pkg.dev/colab-wheels/public/simple/\n",
            "Requirement already satisfied: pip in /usr/local/lib/python3.9/dist-packages (22.0.4)\n",
            "Collecting pip\n",
            "  Downloading pip-23.0.1-py3-none-any.whl (2.1 MB)\n",
            "\u001b[2K     \u001b[90m━━━━━━━━━━━━━━━━━━━━━━━━━━━━━━━━━━━━━━━━\u001b[0m \u001b[32m2.1/2.1 MB\u001b[0m \u001b[31m33.8 MB/s\u001b[0m eta \u001b[36m0:00:00\u001b[0m\n",
            "\u001b[?25hInstalling collected packages: pip\n",
            "  Attempting uninstall: pip\n",
            "    Found existing installation: pip 22.0.4\n",
            "    Uninstalling pip-22.0.4:\n",
            "      Successfully uninstalled pip-22.0.4\n",
            "Successfully installed pip-23.0.1\n",
            "Looking in indexes: https://pypi.org/simple, https://us-python.pkg.dev/colab-wheels/public/simple/\n",
            "Collecting setuptools==64.0.2\n",
            "  Downloading setuptools-64.0.2-py3-none-any.whl (1.2 MB)\n",
            "\u001b[2K     \u001b[90m━━━━━━━━━━━━━━━━━━━━━━━━━━━━━━━━━━━━━━━━\u001b[0m \u001b[32m1.2/1.2 MB\u001b[0m \u001b[31m30.9 MB/s\u001b[0m eta \u001b[36m0:00:00\u001b[0m\n",
            "\u001b[?25hInstalling collected packages: setuptools\n",
            "  Attempting uninstall: setuptools\n",
            "    Found existing installation: setuptools 57.4.0\n",
            "    Uninstalling setuptools-57.4.0:\n",
            "      Successfully uninstalled setuptools-57.4.0\n",
            "Successfully installed setuptools-64.0.2\n",
            "\u001b[33mWARNING: Running pip as the 'root' user can result in broken permissions and conflicting behaviour with the system package manager. It is recommended to use a virtual environment instead: https://pip.pypa.io/warnings/venv\u001b[0m\u001b[33m\n",
            "\u001b[0m"
          ]
        },
        {
          "output_type": "display_data",
          "data": {
            "application/vnd.colab-display-data+json": {
              "pip_warning": {
                "packages": [
                  "pkg_resources"
                ]
              }
            }
          },
          "metadata": {}
        }
      ]
    },
    {
      "cell_type": "code",
      "source": [
        "#!pip uninstall -y opencv-python\n",
        "#!pip install opencv-python==4.5.1.48\n"
      ],
      "metadata": {
        "id": "6AE-R5pigYv6"
      },
      "execution_count": null,
      "outputs": []
    },
    {
      "cell_type": "code",
      "source": [
        "  !git clone https://github.com/beinghorizontal/deep_fc.git\n"
      ],
      "metadata": {
        "id": "SCYjaypapeKd",
        "outputId": "e3b9bb53-b4f0-40f5-b091-e35a02246c67",
        "colab": {
          "base_uri": "https://localhost:8080/"
        }
      },
      "execution_count": 5,
      "outputs": [
        {
          "output_type": "stream",
          "name": "stdout",
          "text": [
            "Cloning into 'deep_fc'...\n",
            "remote: Enumerating objects: 8060, done.\u001b[K\n",
            "remote: Counting objects: 100% (15/15), done.\u001b[K\n",
            "remote: Compressing objects: 100% (15/15), done.\u001b[K\n",
            "remote: Total 8060 (delta 8), reused 0 (delta 0), pack-reused 8045\u001b[K\n",
            "Receiving objects: 100% (8060/8060), 828.69 MiB | 29.85 MiB/s, done.\n",
            "Resolving deltas: 100% (5110/5110), done.\n",
            "Updating files: 100% (211/211), done.\n"
          ]
        }
      ]
    },
    {
      "cell_type": "code",
      "source": [
        "!pip uninstall -y tensorflow\n",
        "!pip install -r /content/deep_fc/requirements-colab.txt\n",
        "#!pip install --upgrade scikit-image\n",
        "!apt-get install cuda-11.2\n"
      ],
      "metadata": {
        "id": "N1pdr-SHpiTW",
        "outputId": "a938868b-d068-4f06-aa77-832719eb4608",
        "colab": {
          "base_uri": "https://localhost:8080/"
        }
      },
      "execution_count": 6,
      "outputs": [
        {
          "output_type": "stream",
          "name": "stdout",
          "text": [
            "Found existing installation: tensorflow 2.11.0\n",
            "Uninstalling tensorflow-2.11.0:\n",
            "  Successfully uninstalled tensorflow-2.11.0\n",
            "\u001b[33mWARNING: Running pip as the 'root' user can result in broken permissions and conflicting behaviour with the system package manager. It is recommended to use a virtual environment instead: https://pip.pypa.io/warnings/venv\u001b[0m\u001b[33m\n",
            "\u001b[0mLooking in indexes: https://pypi.org/simple, https://us-python.pkg.dev/colab-wheels/public/simple/\n",
            "Requirement already satisfied: tqdm in /usr/local/lib/python3.9/dist-packages (from -r /content/deep_fc/requirements-colab.txt (line 1)) (4.65.0)\n",
            "Requirement already satisfied: numpy in /usr/local/lib/python3.9/dist-packages (from -r /content/deep_fc/requirements-colab.txt (line 2)) (1.22.4)\n",
            "Requirement already satisfied: numexpr in /usr/local/lib/python3.9/dist-packages (from -r /content/deep_fc/requirements-colab.txt (line 3)) (2.8.4)\n",
            "Requirement already satisfied: h5py==3.1.0 in /usr/local/lib/python3.9/dist-packages (from -r /content/deep_fc/requirements-colab.txt (line 4)) (3.1.0)\n",
            "Collecting opencv-python==4.5.1.48\n",
            "  Downloading opencv_python-4.5.1.48-cp39-cp39-manylinux2014_x86_64.whl (50.4 MB)\n",
            "\u001b[2K     \u001b[90m━━━━━━━━━━━━━━━━━━━━━━━━━━━━━━━━━━━━━━━━\u001b[0m \u001b[32m50.4/50.4 MB\u001b[0m \u001b[31m18.0 MB/s\u001b[0m eta \u001b[36m0:00:00\u001b[0m\n",
            "\u001b[?25hCollecting ffmpeg-python==0.1.17\n",
            "  Downloading ffmpeg_python-0.1.17-py3-none-any.whl (20 kB)\n",
            "Requirement already satisfied: scikit-image in /usr/local/lib/python3.9/dist-packages (from -r /content/deep_fc/requirements-colab.txt (line 7)) (0.19.3)\n",
            "Requirement already satisfied: scipy in /usr/local/lib/python3.9/dist-packages (from -r /content/deep_fc/requirements-colab.txt (line 8)) (1.10.1)\n",
            "Collecting colorama\n",
            "  Downloading colorama-0.4.6-py2.py3-none-any.whl (25 kB)\n",
            "Collecting tensorflow-gpu==2.5.0\n",
            "  Downloading tensorflow_gpu-2.5.0-cp39-cp39-manylinux2010_x86_64.whl (454.4 MB)\n",
            "\u001b[2K     \u001b[90m━━━━━━━━━━━━━━━━━━━━━━━━━━━━━━━━━━━━━━━\u001b[0m \u001b[32m454.4/454.4 MB\u001b[0m \u001b[31m3.4 MB/s\u001b[0m eta \u001b[36m0:00:00\u001b[0m\n",
            "\u001b[?25hCollecting tf2onnx==1.9.3\n",
            "  Downloading tf2onnx-1.9.3-py3-none-any.whl (435 kB)\n",
            "\u001b[2K     \u001b[90m━━━━━━━━━━━━━━━━━━━━━━━━━━━━━━━━━━━━━━\u001b[0m \u001b[32m435.4/435.4 kB\u001b[0m \u001b[31m43.1 MB/s\u001b[0m eta \u001b[36m0:00:00\u001b[0m\n",
            "\u001b[?25hRequirement already satisfied: future in /usr/local/lib/python3.9/dist-packages (from ffmpeg-python==0.1.17->-r /content/deep_fc/requirements-colab.txt (line 6)) (0.16.0)\n",
            "Collecting numpy\n",
            "  Downloading numpy-1.19.5-cp39-cp39-manylinux2010_x86_64.whl (14.9 MB)\n",
            "\u001b[2K     \u001b[90m━━━━━━━━━━━━━━━━━━━━━━━━━━━━━━━━━━━━━━━━\u001b[0m \u001b[32m14.9/14.9 MB\u001b[0m \u001b[31m56.5 MB/s\u001b[0m eta \u001b[36m0:00:00\u001b[0m\n",
            "\u001b[?25hCollecting wrapt~=1.12.1\n",
            "  Downloading wrapt-1.12.1.tar.gz (27 kB)\n",
            "  Preparing metadata (setup.py) ... \u001b[?25l\u001b[?25hdone\n",
            "Requirement already satisfied: tensorboard~=2.5 in /usr/local/lib/python3.9/dist-packages (from tensorflow-gpu==2.5.0->-r /content/deep_fc/requirements-colab.txt (line 10)) (2.11.2)\n",
            "Collecting flatbuffers~=1.12.0\n",
            "  Downloading flatbuffers-1.12-py2.py3-none-any.whl (15 kB)\n",
            "Collecting keras-nightly~=2.5.0.dev\n",
            "  Downloading keras_nightly-2.5.0.dev2021032900-py2.py3-none-any.whl (1.2 MB)\n",
            "\u001b[2K     \u001b[90m━━━━━━━━━━━━━━━━━━━━━━━━━━━━━━━━━━━━━━━━\u001b[0m \u001b[32m1.2/1.2 MB\u001b[0m \u001b[31m63.1 MB/s\u001b[0m eta \u001b[36m0:00:00\u001b[0m\n",
            "\u001b[?25hCollecting absl-py~=0.10\n",
            "  Downloading absl_py-0.15.0-py3-none-any.whl (132 kB)\n",
            "\u001b[2K     \u001b[90m━━━━━━━━━━━━━━━━━━━━━━━━━━━━━━━━━━━━━━\u001b[0m \u001b[32m132.0/132.0 kB\u001b[0m \u001b[31m15.7 MB/s\u001b[0m eta \u001b[36m0:00:00\u001b[0m\n",
            "\u001b[?25hRequirement already satisfied: google-pasta~=0.2 in /usr/local/lib/python3.9/dist-packages (from tensorflow-gpu==2.5.0->-r /content/deep_fc/requirements-colab.txt (line 10)) (0.2.0)\n",
            "Requirement already satisfied: astunparse~=1.6.3 in /usr/local/lib/python3.9/dist-packages (from tensorflow-gpu==2.5.0->-r /content/deep_fc/requirements-colab.txt (line 10)) (1.6.3)\n",
            "Collecting grpcio~=1.34.0\n",
            "  Downloading grpcio-1.34.1-cp39-cp39-manylinux2014_x86_64.whl (4.0 MB)\n",
            "\u001b[2K     \u001b[90m━━━━━━━━━━━━━━━━━━━━━━━━━━━━━━━━━━━━━━━━\u001b[0m \u001b[32m4.0/4.0 MB\u001b[0m \u001b[31m92.1 MB/s\u001b[0m eta \u001b[36m0:00:00\u001b[0m\n",
            "\u001b[?25hCollecting termcolor~=1.1.0\n",
            "  Downloading termcolor-1.1.0.tar.gz (3.9 kB)\n",
            "  Preparing metadata (setup.py) ... \u001b[?25l\u001b[?25hdone\n",
            "Requirement already satisfied: protobuf>=3.9.2 in /usr/local/lib/python3.9/dist-packages (from tensorflow-gpu==2.5.0->-r /content/deep_fc/requirements-colab.txt (line 10)) (3.19.6)\n",
            "Requirement already satisfied: wheel~=0.35 in /usr/local/lib/python3.9/dist-packages (from tensorflow-gpu==2.5.0->-r /content/deep_fc/requirements-colab.txt (line 10)) (0.38.4)\n",
            "Requirement already satisfied: six~=1.15.0 in /usr/local/lib/python3.9/dist-packages (from tensorflow-gpu==2.5.0->-r /content/deep_fc/requirements-colab.txt (line 10)) (1.15.0)\n",
            "Collecting tensorflow-estimator<2.6.0,>=2.5.0rc0\n",
            "  Downloading tensorflow_estimator-2.5.0-py2.py3-none-any.whl (462 kB)\n",
            "\u001b[2K     \u001b[90m━━━━━━━━━━━━━━━━━━━━━━━━━━━━━━━━━━━━━━\u001b[0m \u001b[32m462.4/462.4 kB\u001b[0m \u001b[31m38.5 MB/s\u001b[0m eta \u001b[36m0:00:00\u001b[0m\n",
            "\u001b[?25hCollecting keras-preprocessing~=1.1.2\n",
            "  Downloading Keras_Preprocessing-1.1.2-py2.py3-none-any.whl (42 kB)\n",
            "\u001b[2K     \u001b[90m━━━━━━━━━━━━━━━━━━━━━━━━━━━━━━━━━━━━━━━━\u001b[0m \u001b[32m42.6/42.6 kB\u001b[0m \u001b[31m5.1 MB/s\u001b[0m eta \u001b[36m0:00:00\u001b[0m\n",
            "\u001b[?25hRequirement already satisfied: opt-einsum~=3.3.0 in /usr/local/lib/python3.9/dist-packages (from tensorflow-gpu==2.5.0->-r /content/deep_fc/requirements-colab.txt (line 10)) (3.3.0)\n",
            "Collecting typing-extensions~=3.7.4\n",
            "  Downloading typing_extensions-3.7.4.3-py3-none-any.whl (22 kB)\n",
            "Requirement already satisfied: gast==0.4.0 in /usr/local/lib/python3.9/dist-packages (from tensorflow-gpu==2.5.0->-r /content/deep_fc/requirements-colab.txt (line 10)) (0.4.0)\n",
            "Requirement already satisfied: requests in /usr/local/lib/python3.9/dist-packages (from tf2onnx==1.9.3->-r /content/deep_fc/requirements-colab.txt (line 11)) (2.25.1)\n",
            "Collecting onnx>=1.4.1\n",
            "  Downloading onnx-1.13.1-cp39-cp39-manylinux_2_17_x86_64.manylinux2014_x86_64.whl (13.5 MB)\n",
            "\u001b[2K     \u001b[90m━━━━━━━━━━━━━━━━━━━━━━━━━━━━━━━━━━━━━━━━\u001b[0m \u001b[32m13.5/13.5 MB\u001b[0m \u001b[31m91.7 MB/s\u001b[0m eta \u001b[36m0:00:00\u001b[0m\n",
            "\u001b[?25hRequirement already satisfied: tifffile>=2019.7.26 in /usr/local/lib/python3.9/dist-packages (from scikit-image->-r /content/deep_fc/requirements-colab.txt (line 7)) (2023.2.28)\n",
            "Requirement already satisfied: pillow!=7.1.0,!=7.1.1,!=8.3.0,>=6.1.0 in /usr/local/lib/python3.9/dist-packages (from scikit-image->-r /content/deep_fc/requirements-colab.txt (line 7)) (8.4.0)\n",
            "Requirement already satisfied: packaging>=20.0 in /usr/local/lib/python3.9/dist-packages (from scikit-image->-r /content/deep_fc/requirements-colab.txt (line 7)) (23.0)\n",
            "Requirement already satisfied: PyWavelets>=1.1.1 in /usr/local/lib/python3.9/dist-packages (from scikit-image->-r /content/deep_fc/requirements-colab.txt (line 7)) (1.4.1)\n",
            "Requirement already satisfied: networkx>=2.2 in /usr/local/lib/python3.9/dist-packages (from scikit-image->-r /content/deep_fc/requirements-colab.txt (line 7)) (3.0)\n",
            "Requirement already satisfied: imageio>=2.4.1 in /usr/local/lib/python3.9/dist-packages (from scikit-image->-r /content/deep_fc/requirements-colab.txt (line 7)) (2.9.0)\n",
            "Collecting protobuf>=3.9.2\n",
            "  Downloading protobuf-3.20.3-cp39-cp39-manylinux_2_5_x86_64.manylinux1_x86_64.whl (1.0 MB)\n",
            "\u001b[2K     \u001b[90m━━━━━━━━━━━━━━━━━━━━━━━━━━━━━━━━━━━━━━━━\u001b[0m \u001b[32m1.0/1.0 MB\u001b[0m \u001b[31m61.6 MB/s\u001b[0m eta \u001b[36m0:00:00\u001b[0m\n",
            "\u001b[?25hRequirement already satisfied: setuptools>=41.0.0 in /usr/local/lib/python3.9/dist-packages (from tensorboard~=2.5->tensorflow-gpu==2.5.0->-r /content/deep_fc/requirements-colab.txt (line 10)) (64.0.2)\n",
            "Requirement already satisfied: tensorboard-data-server<0.7.0,>=0.6.0 in /usr/local/lib/python3.9/dist-packages (from tensorboard~=2.5->tensorflow-gpu==2.5.0->-r /content/deep_fc/requirements-colab.txt (line 10)) (0.6.1)\n",
            "Requirement already satisfied: google-auth-oauthlib<0.5,>=0.4.1 in /usr/local/lib/python3.9/dist-packages (from tensorboard~=2.5->tensorflow-gpu==2.5.0->-r /content/deep_fc/requirements-colab.txt (line 10)) (0.4.6)\n",
            "Requirement already satisfied: markdown>=2.6.8 in /usr/local/lib/python3.9/dist-packages (from tensorboard~=2.5->tensorflow-gpu==2.5.0->-r /content/deep_fc/requirements-colab.txt (line 10)) (3.4.1)\n",
            "Requirement already satisfied: tensorboard-plugin-wit>=1.6.0 in /usr/local/lib/python3.9/dist-packages (from tensorboard~=2.5->tensorflow-gpu==2.5.0->-r /content/deep_fc/requirements-colab.txt (line 10)) (1.8.1)\n",
            "Requirement already satisfied: werkzeug>=1.0.1 in /usr/local/lib/python3.9/dist-packages (from tensorboard~=2.5->tensorflow-gpu==2.5.0->-r /content/deep_fc/requirements-colab.txt (line 10)) (2.2.3)\n",
            "Requirement already satisfied: google-auth<3,>=1.6.3 in /usr/local/lib/python3.9/dist-packages (from tensorboard~=2.5->tensorflow-gpu==2.5.0->-r /content/deep_fc/requirements-colab.txt (line 10)) (2.16.2)\n",
            "Requirement already satisfied: chardet<5,>=3.0.2 in /usr/local/lib/python3.9/dist-packages (from requests->tf2onnx==1.9.3->-r /content/deep_fc/requirements-colab.txt (line 11)) (4.0.0)\n",
            "Requirement already satisfied: idna<3,>=2.5 in /usr/local/lib/python3.9/dist-packages (from requests->tf2onnx==1.9.3->-r /content/deep_fc/requirements-colab.txt (line 11)) (2.10)\n",
            "Requirement already satisfied: urllib3<1.27,>=1.21.1 in /usr/local/lib/python3.9/dist-packages (from requests->tf2onnx==1.9.3->-r /content/deep_fc/requirements-colab.txt (line 11)) (1.26.14)\n",
            "Requirement already satisfied: certifi>=2017.4.17 in /usr/local/lib/python3.9/dist-packages (from requests->tf2onnx==1.9.3->-r /content/deep_fc/requirements-colab.txt (line 11)) (2022.12.7)\n",
            "Requirement already satisfied: pyasn1-modules>=0.2.1 in /usr/local/lib/python3.9/dist-packages (from google-auth<3,>=1.6.3->tensorboard~=2.5->tensorflow-gpu==2.5.0->-r /content/deep_fc/requirements-colab.txt (line 10)) (0.2.8)\n",
            "Requirement already satisfied: rsa<5,>=3.1.4 in /usr/local/lib/python3.9/dist-packages (from google-auth<3,>=1.6.3->tensorboard~=2.5->tensorflow-gpu==2.5.0->-r /content/deep_fc/requirements-colab.txt (line 10)) (4.9)\n",
            "Requirement already satisfied: cachetools<6.0,>=2.0.0 in /usr/local/lib/python3.9/dist-packages (from google-auth<3,>=1.6.3->tensorboard~=2.5->tensorflow-gpu==2.5.0->-r /content/deep_fc/requirements-colab.txt (line 10)) (5.3.0)\n",
            "Requirement already satisfied: requests-oauthlib>=0.7.0 in /usr/local/lib/python3.9/dist-packages (from google-auth-oauthlib<0.5,>=0.4.1->tensorboard~=2.5->tensorflow-gpu==2.5.0->-r /content/deep_fc/requirements-colab.txt (line 10)) (1.3.1)\n",
            "Requirement already satisfied: importlib-metadata>=4.4 in /usr/local/lib/python3.9/dist-packages (from markdown>=2.6.8->tensorboard~=2.5->tensorflow-gpu==2.5.0->-r /content/deep_fc/requirements-colab.txt (line 10)) (6.0.0)\n",
            "Requirement already satisfied: MarkupSafe>=2.1.1 in /usr/local/lib/python3.9/dist-packages (from werkzeug>=1.0.1->tensorboard~=2.5->tensorflow-gpu==2.5.0->-r /content/deep_fc/requirements-colab.txt (line 10)) (2.1.2)\n",
            "Requirement already satisfied: zipp>=0.5 in /usr/local/lib/python3.9/dist-packages (from importlib-metadata>=4.4->markdown>=2.6.8->tensorboard~=2.5->tensorflow-gpu==2.5.0->-r /content/deep_fc/requirements-colab.txt (line 10)) (3.15.0)\n",
            "Requirement already satisfied: pyasn1<0.5.0,>=0.4.6 in /usr/local/lib/python3.9/dist-packages (from pyasn1-modules>=0.2.1->google-auth<3,>=1.6.3->tensorboard~=2.5->tensorflow-gpu==2.5.0->-r /content/deep_fc/requirements-colab.txt (line 10)) (0.4.8)\n",
            "Requirement already satisfied: oauthlib>=3.0.0 in /usr/local/lib/python3.9/dist-packages (from requests-oauthlib>=0.7.0->google-auth-oauthlib<0.5,>=0.4.1->tensorboard~=2.5->tensorflow-gpu==2.5.0->-r /content/deep_fc/requirements-colab.txt (line 10)) (3.2.2)\n",
            "Building wheels for collected packages: termcolor, wrapt\n",
            "  Building wheel for termcolor (setup.py) ... \u001b[?25l\u001b[?25hdone\n",
            "  Created wheel for termcolor: filename=termcolor-1.1.0-py3-none-any.whl size=4832 sha256=4fdcdb4733cd022aef043e394b9fcd5198790cdecdcd495f33c0027bcaabaff0\n",
            "  Stored in directory: /root/.cache/pip/wheels/b6/0d/90/0d1bbd99855f99cb2f6c2e5ff96f8023fad8ec367695f7d72d\n",
            "  Building wheel for wrapt (setup.py) ... \u001b[?25l\u001b[?25hdone\n",
            "  Created wheel for wrapt: filename=wrapt-1.12.1-cp39-cp39-linux_x86_64.whl size=75925 sha256=4f2a08a46bc4a0158c1b02fd0ab4ef16ef6b63948735df4555bc1c71649e549b\n",
            "  Stored in directory: /root/.cache/pip/wheels/98/23/68/efe259aaca055e93b08e74fbe512819c69a2155c11ba3c0f10\n",
            "Successfully built termcolor wrapt\n",
            "Installing collected packages: wrapt, typing-extensions, termcolor, tensorflow-estimator, keras-nightly, flatbuffers, protobuf, numpy, grpcio, ffmpeg-python, colorama, absl-py, opencv-python, onnx, keras-preprocessing, tf2onnx, tensorflow-gpu\n",
            "  Attempting uninstall: wrapt\n",
            "    Found existing installation: wrapt 1.15.0\n",
            "    Uninstalling wrapt-1.15.0:\n",
            "      Successfully uninstalled wrapt-1.15.0\n",
            "  Attempting uninstall: typing-extensions\n",
            "    Found existing installation: typing_extensions 4.5.0\n",
            "    Uninstalling typing_extensions-4.5.0:\n",
            "      Successfully uninstalled typing_extensions-4.5.0\n",
            "  Attempting uninstall: termcolor\n",
            "    Found existing installation: termcolor 2.2.0\n",
            "    Uninstalling termcolor-2.2.0:\n",
            "      Successfully uninstalled termcolor-2.2.0\n",
            "  Attempting uninstall: tensorflow-estimator\n",
            "    Found existing installation: tensorflow-estimator 2.11.0\n",
            "    Uninstalling tensorflow-estimator-2.11.0:\n",
            "      Successfully uninstalled tensorflow-estimator-2.11.0\n",
            "  Attempting uninstall: flatbuffers\n",
            "    Found existing installation: flatbuffers 23.3.3\n",
            "    Uninstalling flatbuffers-23.3.3:\n",
            "      Successfully uninstalled flatbuffers-23.3.3\n",
            "  Attempting uninstall: protobuf\n",
            "    Found existing installation: protobuf 3.19.6\n",
            "    Uninstalling protobuf-3.19.6:\n",
            "      Successfully uninstalled protobuf-3.19.6\n",
            "  Attempting uninstall: numpy\n",
            "    Found existing installation: numpy 1.22.4\n",
            "    Uninstalling numpy-1.22.4:\n",
            "      Successfully uninstalled numpy-1.22.4\n",
            "  Attempting uninstall: grpcio\n",
            "    Found existing installation: grpcio 1.51.3\n",
            "    Uninstalling grpcio-1.51.3:\n",
            "      Successfully uninstalled grpcio-1.51.3\n",
            "  Attempting uninstall: absl-py\n",
            "    Found existing installation: absl-py 1.4.0\n",
            "    Uninstalling absl-py-1.4.0:\n",
            "      Successfully uninstalled absl-py-1.4.0\n",
            "  Attempting uninstall: opencv-python\n",
            "    Found existing installation: opencv-python 4.6.0.66\n",
            "    Uninstalling opencv-python-4.6.0.66:\n",
            "      Successfully uninstalled opencv-python-4.6.0.66\n",
            "\u001b[31mERROR: pip's dependency resolver does not currently take into account all the packages that are installed. This behaviour is the source of the following dependency conflicts.\n",
            "xarray 2022.12.0 requires numpy>=1.20, but you have numpy 1.19.5 which is incompatible.\n",
            "xarray-einstats 0.5.1 requires numpy>=1.20, but you have numpy 1.19.5 which is incompatible.\n",
            "pydantic 1.10.5 requires typing-extensions>=4.2.0, but you have typing-extensions 3.7.4.3 which is incompatible.\n",
            "jaxlib 0.4.4+cuda11.cudnn82 requires numpy>=1.20, but you have numpy 1.19.5 which is incompatible.\n",
            "jax 0.4.4 requires numpy>=1.20, but you have numpy 1.19.5 which is incompatible.\n",
            "grpcio-status 1.48.2 requires grpcio>=1.48.2, but you have grpcio 1.34.1 which is incompatible.\n",
            "google-cloud-bigquery 3.4.2 requires grpcio<2.0dev,>=1.47.0, but you have grpcio 1.34.1 which is incompatible.\n",
            "cupy-cuda11x 11.0.0 requires numpy<1.26,>=1.20, but you have numpy 1.19.5 which is incompatible.\n",
            "cmdstanpy 1.1.0 requires numpy>=1.21, but you have numpy 1.19.5 which is incompatible.\n",
            "bokeh 2.4.3 requires typing-extensions>=3.10.0, but you have typing-extensions 3.7.4.3 which is incompatible.\u001b[0m\u001b[31m\n",
            "\u001b[0mSuccessfully installed absl-py-0.15.0 colorama-0.4.6 ffmpeg-python-0.1.17 flatbuffers-1.12 grpcio-1.34.1 keras-nightly-2.5.0.dev2021032900 keras-preprocessing-1.1.2 numpy-1.19.5 onnx-1.13.1 opencv-python-4.5.1.48 protobuf-3.20.3 tensorflow-estimator-2.5.0 tensorflow-gpu-2.5.0 termcolor-1.1.0 tf2onnx-1.9.3 typing-extensions-3.7.4.3 wrapt-1.12.1\n",
            "\u001b[33mWARNING: Running pip as the 'root' user can result in broken permissions and conflicting behaviour with the system package manager. It is recommended to use a virtual environment instead: https://pip.pypa.io/warnings/venv\u001b[0m\u001b[33m\n",
            "Reading package lists... Done\n",
            "Building dependency tree       \n",
            "Reading state information... Done\n",
            "Note, selecting 'libcuda-11.2-1' for regex 'cuda-11.2'\n",
            "Note, selecting 'cuda-11-2' for regex 'cuda-11.2'\n",
            "The following additional packages will be installed:\n",
            "  cuda-command-line-tools-11-2 cuda-compiler-11-2 cuda-cudart-11-2\n",
            "  cuda-cudart-dev-11-2 cuda-cuobjdump-11-2 cuda-cupti-11-2 cuda-cupti-dev-11-2\n",
            "  cuda-cuxxfilt-11-2 cuda-demo-suite-11-2 cuda-documentation-11-2\n",
            "  cuda-driver-dev-11-2 cuda-gdb-11-2 cuda-libraries-11-2\n",
            "  cuda-libraries-dev-11-2 cuda-memcheck-11-2 cuda-nsight-11-2\n",
            "  cuda-nsight-compute-11-2 cuda-nsight-systems-11-2 cuda-nvcc-11-2\n",
            "  cuda-nvdisasm-11-2 cuda-nvml-dev-11-2 cuda-nvprof-11-2 cuda-nvprune-11-2\n",
            "  cuda-nvrtc-11-2 cuda-nvrtc-dev-11-2 cuda-nvtx-11-2 cuda-nvvp-11-2\n",
            "  cuda-runtime-11-2 cuda-samples-11-2 cuda-sanitizer-11-2 cuda-toolkit-11-2\n",
            "  cuda-tools-11-2 cuda-visual-tools-11-2 libcublas-11-2 libcublas-dev-11-2\n",
            "  libcufft-11-2 libcufft-dev-11-2 libcurand-11-2 libcurand-dev-11-2\n",
            "  libcusolver-11-2 libcusolver-dev-11-2 libcusparse-11-2 libcusparse-dev-11-2\n",
            "  libnpp-11-2 libnpp-dev-11-2 libnvjpeg-11-2 libnvjpeg-dev-11-2\n",
            "  nsight-compute-2020.3.1 nsight-systems-2020.4.3\n",
            "The following NEW packages will be installed:\n",
            "  cuda-11-2 cuda-command-line-tools-11-2 cuda-compiler-11-2 cuda-cudart-11-2\n",
            "  cuda-cudart-dev-11-2 cuda-cuobjdump-11-2 cuda-cupti-11-2 cuda-cupti-dev-11-2\n",
            "  cuda-cuxxfilt-11-2 cuda-demo-suite-11-2 cuda-documentation-11-2\n",
            "  cuda-driver-dev-11-2 cuda-gdb-11-2 cuda-libraries-11-2\n",
            "  cuda-libraries-dev-11-2 cuda-memcheck-11-2 cuda-nsight-11-2\n",
            "  cuda-nsight-compute-11-2 cuda-nsight-systems-11-2 cuda-nvcc-11-2\n",
            "  cuda-nvdisasm-11-2 cuda-nvml-dev-11-2 cuda-nvprof-11-2 cuda-nvprune-11-2\n",
            "  cuda-nvrtc-11-2 cuda-nvrtc-dev-11-2 cuda-nvtx-11-2 cuda-nvvp-11-2\n",
            "  cuda-runtime-11-2 cuda-samples-11-2 cuda-sanitizer-11-2 cuda-toolkit-11-2\n",
            "  cuda-tools-11-2 cuda-visual-tools-11-2 libcublas-11-2 libcublas-dev-11-2\n",
            "  libcufft-11-2 libcufft-dev-11-2 libcurand-11-2 libcurand-dev-11-2\n",
            "  libcusolver-11-2 libcusolver-dev-11-2 libcusparse-11-2 libcusparse-dev-11-2\n",
            "  libnpp-11-2 libnpp-dev-11-2 libnvjpeg-11-2 libnvjpeg-dev-11-2\n",
            "  nsight-compute-2020.3.1 nsight-systems-2020.4.3\n",
            "0 upgraded, 50 newly installed, 0 to remove and 22 not upgraded.\n",
            "Need to get 2,103 MB of archives.\n",
            "After this operation, 4,722 MB of additional disk space will be used.\n",
            "Get:1 https://developer.download.nvidia.com/compute/cuda/repos/ubuntu2004/x86_64  cuda-cudart-11-2 11.2.152-1 [141 kB]\n",
            "Get:2 https://developer.download.nvidia.com/compute/cuda/repos/ubuntu2004/x86_64  cuda-nvrtc-11-2 11.2.152-1 [25.6 MB]\n",
            "Get:3 https://developer.download.nvidia.com/compute/cuda/repos/ubuntu2004/x86_64  libcublas-11-2 11.4.1.1043-1 [131 MB]\n",
            "Get:4 https://developer.download.nvidia.com/compute/cuda/repos/ubuntu2004/x86_64  libcufft-11-2 10.4.1.152-1 [107 MB]\n",
            "Get:5 https://developer.download.nvidia.com/compute/cuda/repos/ubuntu2004/x86_64  libcurand-11-2 10.2.3.152-1 [39.9 MB]\n",
            "Get:6 https://developer.download.nvidia.com/compute/cuda/repos/ubuntu2004/x86_64  libcusolver-11-2 11.1.0.152-1 [153 MB]\n",
            "Get:7 https://developer.download.nvidia.com/compute/cuda/repos/ubuntu2004/x86_64  libcusparse-11-2 11.4.1.1152-1 [101 MB]\n",
            "Get:8 https://developer.download.nvidia.com/compute/cuda/repos/ubuntu2004/x86_64  libnpp-11-2 11.3.2.152-1 [70.8 MB]\n",
            "Get:9 https://developer.download.nvidia.com/compute/cuda/repos/ubuntu2004/x86_64  libnvjpeg-11-2 11.4.0.152-1 [1,498 kB]\n",
            "Get:10 https://developer.download.nvidia.com/compute/cuda/repos/ubuntu2004/x86_64  cuda-libraries-11-2 11.2.2-1 [2,498 B]\n",
            "Get:11 https://developer.download.nvidia.com/compute/cuda/repos/ubuntu2004/x86_64  cuda-runtime-11-2 11.2.2-1 [2,420 B]\n",
            "Get:12 https://developer.download.nvidia.com/compute/cuda/repos/ubuntu2004/x86_64  cuda-cuobjdump-11-2 11.2.152-1 [111 kB]\n",
            "Get:13 https://developer.download.nvidia.com/compute/cuda/repos/ubuntu2004/x86_64  cuda-cuxxfilt-11-2 11.2.152-1 [44.3 kB]\n",
            "Get:14 https://developer.download.nvidia.com/compute/cuda/repos/ubuntu2004/x86_64  cuda-driver-dev-11-2 11.2.152-1 [25.9 kB]\n",
            "Get:15 https://developer.download.nvidia.com/compute/cuda/repos/ubuntu2004/x86_64  cuda-cudart-dev-11-2 11.2.152-1 [1,678 kB]\n",
            "Get:16 https://developer.download.nvidia.com/compute/cuda/repos/ubuntu2004/x86_64  cuda-nvcc-11-2 11.2.152-1 [45.9 MB]\n",
            "Get:17 https://developer.download.nvidia.com/compute/cuda/repos/ubuntu2004/x86_64  cuda-nvprune-11-2 11.2.152-1 [54.6 kB]\n",
            "Get:18 https://developer.download.nvidia.com/compute/cuda/repos/ubuntu2004/x86_64  cuda-compiler-11-2 11.2.2-1 [2,426 B]\n",
            "Get:19 https://developer.download.nvidia.com/compute/cuda/repos/ubuntu2004/x86_64  cuda-nvrtc-dev-11-2 11.2.152-1 [25.6 MB]\n",
            "Get:20 https://developer.download.nvidia.com/compute/cuda/repos/ubuntu2004/x86_64  libcublas-dev-11-2 11.4.1.1043-1 [135 MB]\n",
            "Get:21 https://developer.download.nvidia.com/compute/cuda/repos/ubuntu2004/x86_64  libcufft-dev-11-2 10.4.1.152-1 [179 MB]\n",
            "Get:22 https://developer.download.nvidia.com/compute/cuda/repos/ubuntu2004/x86_64  libcurand-dev-11-2 10.2.3.152-1 [40.3 MB]\n",
            "Get:23 https://developer.download.nvidia.com/compute/cuda/repos/ubuntu2004/x86_64  libcusolver-dev-11-2 11.1.0.152-1 [20.5 MB]\n",
            "Get:24 https://developer.download.nvidia.com/compute/cuda/repos/ubuntu2004/x86_64  libcusparse-dev-11-2 11.4.1.1152-1 [99.5 MB]\n",
            "Get:25 https://developer.download.nvidia.com/compute/cuda/repos/ubuntu2004/x86_64  libnpp-dev-11-2 11.3.2.152-1 [71.3 MB]\n",
            "Get:26 https://developer.download.nvidia.com/compute/cuda/repos/ubuntu2004/x86_64  libnvjpeg-dev-11-2 11.4.0.152-1 [1,420 kB]\n",
            "Get:27 https://developer.download.nvidia.com/compute/cuda/repos/ubuntu2004/x86_64  cuda-libraries-dev-11-2 11.2.2-1 [2,516 B]\n",
            "Get:28 https://developer.download.nvidia.com/compute/cuda/repos/ubuntu2004/x86_64  cuda-cupti-11-2 11.2.152-1 [11.5 MB]\n",
            "Get:29 https://developer.download.nvidia.com/compute/cuda/repos/ubuntu2004/x86_64  cuda-cupti-dev-11-2 11.2.152-1 [2,317 kB]\n",
            "Get:30 https://developer.download.nvidia.com/compute/cuda/repos/ubuntu2004/x86_64  cuda-nvdisasm-11-2 11.2.152-1 [32.8 MB]\n",
            "Get:31 https://developer.download.nvidia.com/compute/cuda/repos/ubuntu2004/x86_64  cuda-gdb-11-2 11.2.152-1 [3,620 kB]\n",
            "Get:32 https://developer.download.nvidia.com/compute/cuda/repos/ubuntu2004/x86_64  cuda-memcheck-11-2 11.2.152-1 [145 kB]\n",
            "Get:33 https://developer.download.nvidia.com/compute/cuda/repos/ubuntu2004/x86_64  cuda-nvprof-11-2 11.2.152-1 [1,919 kB]\n",
            "Get:34 https://developer.download.nvidia.com/compute/cuda/repos/ubuntu2004/x86_64  cuda-nvtx-11-2 11.2.152-1 [51.1 kB]\n",
            "Get:35 https://developer.download.nvidia.com/compute/cuda/repos/ubuntu2004/x86_64  cuda-sanitizer-11-2 11.2.152-1 [7,641 kB]\n",
            "Get:36 https://developer.download.nvidia.com/compute/cuda/repos/ubuntu2004/x86_64  cuda-command-line-tools-11-2 11.2.2-1 [2,466 B]\n",
            "Get:37 https://developer.download.nvidia.com/compute/cuda/repos/ubuntu2004/x86_64  nsight-compute-2020.3.1 2020.3.1.4-1 [273 MB]\n",
            "Get:38 https://developer.download.nvidia.com/compute/cuda/repos/ubuntu2004/x86_64  cuda-nsight-compute-11-2 11.2.2-1 [3,704 B]\n",
            "Get:39 https://developer.download.nvidia.com/compute/cuda/repos/ubuntu2004/x86_64  nsight-systems-2020.4.3 2020.4.3.7-10543b6 [226 MB]\n",
            "Get:40 https://developer.download.nvidia.com/compute/cuda/repos/ubuntu2004/x86_64  cuda-nsight-systems-11-2 11.2.2-1 [3,300 B]\n",
            "Get:41 https://developer.download.nvidia.com/compute/cuda/repos/ubuntu2004/x86_64  cuda-nsight-11-2 11.2.152-1 [119 MB]\n",
            "Get:42 https://developer.download.nvidia.com/compute/cuda/repos/ubuntu2004/x86_64  cuda-nvml-dev-11-2 11.2.152-1 [73.1 kB]\n",
            "Get:43 https://developer.download.nvidia.com/compute/cuda/repos/ubuntu2004/x86_64  cuda-nvvp-11-2 11.2.152-1 [114 MB]\n",
            "Get:44 https://developer.download.nvidia.com/compute/cuda/repos/ubuntu2004/x86_64  cuda-visual-tools-11-2 11.2.2-1 [2,938 B]\n",
            "Get:45 https://developer.download.nvidia.com/compute/cuda/repos/ubuntu2004/x86_64  cuda-tools-11-2 11.2.2-1 [2,376 B]\n",
            "Get:46 https://developer.download.nvidia.com/compute/cuda/repos/ubuntu2004/x86_64  cuda-samples-11-2 11.2.152-1 [57.0 MB]\n",
            "Get:47 https://developer.download.nvidia.com/compute/cuda/repos/ubuntu2004/x86_64  cuda-documentation-11-2 11.2.154-1 [48.2 kB]\n",
            "Get:48 https://developer.download.nvidia.com/compute/cuda/repos/ubuntu2004/x86_64  cuda-toolkit-11-2 11.2.2-1 [3,270 B]\n",
            "Get:49 https://developer.download.nvidia.com/compute/cuda/repos/ubuntu2004/x86_64  cuda-demo-suite-11-2 11.2.152-1 [3,935 kB]\n",
            "Get:50 https://developer.download.nvidia.com/compute/cuda/repos/ubuntu2004/x86_64  cuda-11-2 11.2.2-1 [2,446 B]\n",
            "Fetched 2,103 MB in 28s (76.1 MB/s)\n",
            "Extracting templates from packages: 100%\n",
            "Selecting previously unselected package cuda-cudart-11-2.\n",
            "(Reading database ... 128275 files and directories currently installed.)\n",
            "Preparing to unpack .../00-cuda-cudart-11-2_11.2.152-1_amd64.deb ...\n",
            "Unpacking cuda-cudart-11-2 (11.2.152-1) ...\n",
            "dpkg: error processing archive /tmp/apt-dpkg-install-wGXzSm/00-cuda-cudart-11-2_11.2.152-1_amd64.deb (--unpack):\n",
            " trying to overwrite '/etc/ld.so.conf.d/000_cuda.conf', which is also in package cuda-toolkit-config-common 12.0.146-1\n",
            "Selecting previously unselected package cuda-nvrtc-11-2.\n",
            "Preparing to unpack .../01-cuda-nvrtc-11-2_11.2.152-1_amd64.deb ...\n",
            "Unpacking cuda-nvrtc-11-2 (11.2.152-1) ...\n",
            "Selecting previously unselected package libcublas-11-2.\n",
            "Preparing to unpack .../02-libcublas-11-2_11.4.1.1043-1_amd64.deb ...\n",
            "Unpacking libcublas-11-2 (11.4.1.1043-1) ...\n",
            "Selecting previously unselected package libcufft-11-2.\n",
            "Preparing to unpack .../03-libcufft-11-2_10.4.1.152-1_amd64.deb ...\n",
            "Unpacking libcufft-11-2 (10.4.1.152-1) ...\n",
            "Selecting previously unselected package libcurand-11-2.\n",
            "Preparing to unpack .../04-libcurand-11-2_10.2.3.152-1_amd64.deb ...\n",
            "Unpacking libcurand-11-2 (10.2.3.152-1) ...\n",
            "Selecting previously unselected package libcusolver-11-2.\n",
            "Preparing to unpack .../05-libcusolver-11-2_11.1.0.152-1_amd64.deb ...\n",
            "Unpacking libcusolver-11-2 (11.1.0.152-1) ...\n",
            "Selecting previously unselected package libcusparse-11-2.\n",
            "Preparing to unpack .../06-libcusparse-11-2_11.4.1.1152-1_amd64.deb ...\n",
            "Unpacking libcusparse-11-2 (11.4.1.1152-1) ...\n",
            "Selecting previously unselected package libnpp-11-2.\n",
            "Preparing to unpack .../07-libnpp-11-2_11.3.2.152-1_amd64.deb ...\n",
            "Unpacking libnpp-11-2 (11.3.2.152-1) ...\n",
            "Selecting previously unselected package libnvjpeg-11-2.\n",
            "Preparing to unpack .../08-libnvjpeg-11-2_11.4.0.152-1_amd64.deb ...\n",
            "Unpacking libnvjpeg-11-2 (11.4.0.152-1) ...\n",
            "Selecting previously unselected package cuda-libraries-11-2.\n",
            "Preparing to unpack .../09-cuda-libraries-11-2_11.2.2-1_amd64.deb ...\n",
            "Unpacking cuda-libraries-11-2 (11.2.2-1) ...\n",
            "Selecting previously unselected package cuda-runtime-11-2.\n",
            "Preparing to unpack .../10-cuda-runtime-11-2_11.2.2-1_amd64.deb ...\n",
            "Unpacking cuda-runtime-11-2 (11.2.2-1) ...\n",
            "Selecting previously unselected package cuda-cuobjdump-11-2.\n",
            "Preparing to unpack .../11-cuda-cuobjdump-11-2_11.2.152-1_amd64.deb ...\n",
            "Unpacking cuda-cuobjdump-11-2 (11.2.152-1) ...\n",
            "Selecting previously unselected package cuda-cuxxfilt-11-2.\n",
            "Preparing to unpack .../12-cuda-cuxxfilt-11-2_11.2.152-1_amd64.deb ...\n",
            "Unpacking cuda-cuxxfilt-11-2 (11.2.152-1) ...\n",
            "Selecting previously unselected package cuda-driver-dev-11-2.\n",
            "Preparing to unpack .../13-cuda-driver-dev-11-2_11.2.152-1_amd64.deb ...\n",
            "Unpacking cuda-driver-dev-11-2 (11.2.152-1) ...\n",
            "Selecting previously unselected package cuda-cudart-dev-11-2.\n",
            "Preparing to unpack .../14-cuda-cudart-dev-11-2_11.2.152-1_amd64.deb ...\n",
            "Unpacking cuda-cudart-dev-11-2 (11.2.152-1) ...\n",
            "Selecting previously unselected package cuda-nvcc-11-2.\n",
            "Preparing to unpack .../15-cuda-nvcc-11-2_11.2.152-1_amd64.deb ...\n",
            "Unpacking cuda-nvcc-11-2 (11.2.152-1) ...\n",
            "Selecting previously unselected package cuda-nvprune-11-2.\n",
            "Preparing to unpack .../16-cuda-nvprune-11-2_11.2.152-1_amd64.deb ...\n",
            "Unpacking cuda-nvprune-11-2 (11.2.152-1) ...\n",
            "Selecting previously unselected package cuda-compiler-11-2.\n",
            "Preparing to unpack .../17-cuda-compiler-11-2_11.2.2-1_amd64.deb ...\n",
            "Unpacking cuda-compiler-11-2 (11.2.2-1) ...\n",
            "Selecting previously unselected package cuda-nvrtc-dev-11-2.\n",
            "Preparing to unpack .../18-cuda-nvrtc-dev-11-2_11.2.152-1_amd64.deb ...\n",
            "Unpacking cuda-nvrtc-dev-11-2 (11.2.152-1) ...\n",
            "Selecting previously unselected package libcublas-dev-11-2.\n",
            "Preparing to unpack .../19-libcublas-dev-11-2_11.4.1.1043-1_amd64.deb ...\n",
            "Unpacking libcublas-dev-11-2 (11.4.1.1043-1) ...\n",
            "Selecting previously unselected package libcufft-dev-11-2.\n",
            "Preparing to unpack .../20-libcufft-dev-11-2_10.4.1.152-1_amd64.deb ...\n",
            "Unpacking libcufft-dev-11-2 (10.4.1.152-1) ...\n",
            "Selecting previously unselected package libcurand-dev-11-2.\n",
            "Preparing to unpack .../21-libcurand-dev-11-2_10.2.3.152-1_amd64.deb ...\n",
            "Unpacking libcurand-dev-11-2 (10.2.3.152-1) ...\n",
            "Selecting previously unselected package libcusolver-dev-11-2.\n",
            "Preparing to unpack .../22-libcusolver-dev-11-2_11.1.0.152-1_amd64.deb ...\n",
            "Unpacking libcusolver-dev-11-2 (11.1.0.152-1) ...\n",
            "Selecting previously unselected package libcusparse-dev-11-2.\n",
            "Preparing to unpack .../23-libcusparse-dev-11-2_11.4.1.1152-1_amd64.deb ...\n",
            "Unpacking libcusparse-dev-11-2 (11.4.1.1152-1) ...\n",
            "Selecting previously unselected package libnpp-dev-11-2.\n",
            "Preparing to unpack .../24-libnpp-dev-11-2_11.3.2.152-1_amd64.deb ...\n",
            "Unpacking libnpp-dev-11-2 (11.3.2.152-1) ...\n",
            "Selecting previously unselected package libnvjpeg-dev-11-2.\n",
            "Preparing to unpack .../25-libnvjpeg-dev-11-2_11.4.0.152-1_amd64.deb ...\n",
            "Unpacking libnvjpeg-dev-11-2 (11.4.0.152-1) ...\n",
            "Selecting previously unselected package cuda-libraries-dev-11-2.\n",
            "Preparing to unpack .../26-cuda-libraries-dev-11-2_11.2.2-1_amd64.deb ...\n",
            "Unpacking cuda-libraries-dev-11-2 (11.2.2-1) ...\n",
            "Selecting previously unselected package cuda-cupti-11-2.\n",
            "Preparing to unpack .../27-cuda-cupti-11-2_11.2.152-1_amd64.deb ...\n",
            "Unpacking cuda-cupti-11-2 (11.2.152-1) ...\n",
            "Selecting previously unselected package cuda-cupti-dev-11-2.\n",
            "Preparing to unpack .../28-cuda-cupti-dev-11-2_11.2.152-1_amd64.deb ...\n",
            "Unpacking cuda-cupti-dev-11-2 (11.2.152-1) ...\n",
            "Selecting previously unselected package cuda-nvdisasm-11-2.\n",
            "Preparing to unpack .../29-cuda-nvdisasm-11-2_11.2.152-1_amd64.deb ...\n",
            "Unpacking cuda-nvdisasm-11-2 (11.2.152-1) ...\n",
            "Selecting previously unselected package cuda-gdb-11-2.\n",
            "Preparing to unpack .../30-cuda-gdb-11-2_11.2.152-1_amd64.deb ...\n",
            "Unpacking cuda-gdb-11-2 (11.2.152-1) ...\n",
            "Selecting previously unselected package cuda-memcheck-11-2.\n",
            "Preparing to unpack .../31-cuda-memcheck-11-2_11.2.152-1_amd64.deb ...\n",
            "Unpacking cuda-memcheck-11-2 (11.2.152-1) ...\n",
            "Selecting previously unselected package cuda-nvprof-11-2.\n",
            "Preparing to unpack .../32-cuda-nvprof-11-2_11.2.152-1_amd64.deb ...\n",
            "Unpacking cuda-nvprof-11-2 (11.2.152-1) ...\n",
            "Selecting previously unselected package cuda-nvtx-11-2.\n",
            "Preparing to unpack .../33-cuda-nvtx-11-2_11.2.152-1_amd64.deb ...\n",
            "Unpacking cuda-nvtx-11-2 (11.2.152-1) ...\n",
            "Selecting previously unselected package cuda-sanitizer-11-2.\n",
            "Preparing to unpack .../34-cuda-sanitizer-11-2_11.2.152-1_amd64.deb ...\n",
            "Unpacking cuda-sanitizer-11-2 (11.2.152-1) ...\n",
            "Selecting previously unselected package cuda-command-line-tools-11-2.\n",
            "Preparing to unpack .../35-cuda-command-line-tools-11-2_11.2.2-1_amd64.deb ...\n",
            "Unpacking cuda-command-line-tools-11-2 (11.2.2-1) ...\n",
            "Selecting previously unselected package nsight-compute-2020.3.1.\n",
            "Preparing to unpack .../36-nsight-compute-2020.3.1_2020.3.1.4-1_amd64.deb ...\n",
            "Unpacking nsight-compute-2020.3.1 (2020.3.1.4-1) ...\n",
            "Selecting previously unselected package cuda-nsight-compute-11-2.\n",
            "Preparing to unpack .../37-cuda-nsight-compute-11-2_11.2.2-1_amd64.deb ...\n",
            "Unpacking cuda-nsight-compute-11-2 (11.2.2-1) ...\n",
            "Selecting previously unselected package nsight-systems-2020.4.3.\n",
            "Preparing to unpack .../38-nsight-systems-2020.4.3_2020.4.3.7-10543b6_amd64.deb ...\n",
            "Unpacking nsight-systems-2020.4.3 (2020.4.3.7-10543b6) ...\n",
            "Selecting previously unselected package cuda-nsight-systems-11-2.\n",
            "Preparing to unpack .../39-cuda-nsight-systems-11-2_11.2.2-1_amd64.deb ...\n",
            "Unpacking cuda-nsight-systems-11-2 (11.2.2-1) ...\n",
            "Selecting previously unselected package cuda-nsight-11-2.\n",
            "Preparing to unpack .../40-cuda-nsight-11-2_11.2.152-1_amd64.deb ...\n",
            "Unpacking cuda-nsight-11-2 (11.2.152-1) ...\n",
            "Selecting previously unselected package cuda-nvml-dev-11-2.\n",
            "Preparing to unpack .../41-cuda-nvml-dev-11-2_11.2.152-1_amd64.deb ...\n",
            "Unpacking cuda-nvml-dev-11-2 (11.2.152-1) ...\n",
            "Selecting previously unselected package cuda-nvvp-11-2.\n",
            "Preparing to unpack .../42-cuda-nvvp-11-2_11.2.152-1_amd64.deb ...\n",
            "Unpacking cuda-nvvp-11-2 (11.2.152-1) ...\n",
            "Selecting previously unselected package cuda-visual-tools-11-2.\n",
            "Preparing to unpack .../43-cuda-visual-tools-11-2_11.2.2-1_amd64.deb ...\n",
            "Unpacking cuda-visual-tools-11-2 (11.2.2-1) ...\n",
            "Selecting previously unselected package cuda-tools-11-2.\n",
            "Preparing to unpack .../44-cuda-tools-11-2_11.2.2-1_amd64.deb ...\n",
            "Unpacking cuda-tools-11-2 (11.2.2-1) ...\n",
            "Selecting previously unselected package cuda-samples-11-2.\n",
            "Preparing to unpack .../45-cuda-samples-11-2_11.2.152-1_amd64.deb ...\n",
            "Unpacking cuda-samples-11-2 (11.2.152-1) ...\n",
            "Selecting previously unselected package cuda-documentation-11-2.\n",
            "Preparing to unpack .../46-cuda-documentation-11-2_11.2.154-1_amd64.deb ...\n",
            "Unpacking cuda-documentation-11-2 (11.2.154-1) ...\n",
            "Selecting previously unselected package cuda-toolkit-11-2.\n",
            "Preparing to unpack .../47-cuda-toolkit-11-2_11.2.2-1_amd64.deb ...\n",
            "Unpacking cuda-toolkit-11-2 (11.2.2-1) ...\n",
            "Selecting previously unselected package cuda-demo-suite-11-2.\n",
            "Preparing to unpack .../48-cuda-demo-suite-11-2_11.2.152-1_amd64.deb ...\n",
            "Unpacking cuda-demo-suite-11-2 (11.2.152-1) ...\n",
            "Selecting previously unselected package cuda-11-2.\n",
            "Preparing to unpack .../49-cuda-11-2_11.2.2-1_amd64.deb ...\n",
            "Unpacking cuda-11-2 (11.2.2-1) ...\n",
            "Errors were encountered while processing:\n",
            " /tmp/apt-dpkg-install-wGXzSm/00-cuda-cudart-11-2_11.2.152-1_amd64.deb\n",
            "E: Sub-process /usr/bin/dpkg returned an error code (1)\n"
          ]
        }
      ]
    },
    {
      "cell_type": "code",
      "source": [
        "import IPython\n",
        "from google.colab import output\n",
        "\n",
        "display(IPython.display.Javascript('''\n",
        " function ClickConnect(){\n",
        "   btn = document.querySelector(\"colab-connect-button\")\n",
        "   if (btn != null){\n",
        "     console.log(\"Click colab-connect-button\"); \n",
        "     btn.click() \n",
        "     }\n",
        "   \n",
        "   btn = document.getElementById('ok')\n",
        "   if (btn != null){\n",
        "     console.log(\"Click reconnect\"); \n",
        "     btn.click() \n",
        "     }\n",
        "  }\n",
        "  \n",
        "setInterval(ClickConnect,60000)\n",
        "'''))\n",
        "\n",
        "print(\"\\nDone!\")"
      ],
      "metadata": {
        "id": "twA_9TRwrPSg",
        "outputId": "a54d1e8b-4280-4327-8eb9-e8f78bdc2a74",
        "colab": {
          "base_uri": "https://localhost:8080/",
          "height": 52
        }
      },
      "execution_count": 7,
      "outputs": [
        {
          "output_type": "display_data",
          "data": {
            "text/plain": [
              "<IPython.core.display.Javascript object>"
            ],
            "application/javascript": [
              "\n",
              " function ClickConnect(){\n",
              "   btn = document.querySelector(\"colab-connect-button\")\n",
              "   if (btn != null){\n",
              "     console.log(\"Click colab-connect-button\"); \n",
              "     btn.click() \n",
              "     }\n",
              "   \n",
              "   btn = document.getElementById('ok')\n",
              "   if (btn != null){\n",
              "     console.log(\"Click reconnect\"); \n",
              "     btn.click() \n",
              "     }\n",
              "  }\n",
              "  \n",
              "setInterval(ClickConnect,60000)\n"
            ]
          },
          "metadata": {}
        },
        {
          "output_type": "stream",
          "name": "stdout",
          "text": [
            "\n",
            "Done!\n"
          ]
        }
      ]
    },
    {
      "cell_type": "markdown",
      "metadata": {
        "id": "hqwOlJG4MdLC"
      },
      "source": [
        "## Manage workspace\n",
        "\n",
        "\n",
        "\n",
        "*   You can import/export workspace or individual data, like model files with Google Drive\n",
        "*   Also, you can use HFS (HTTP Fileserver) for directly import/export you workspace from your computer\n",
        "*   You can clear all workspace or delete part of it\n",
        "\n"
      ]
    },
    {
      "cell_type": "code",
      "metadata": {
        "id": "z4w_sUzgOQmL",
        "outputId": "f646a2aa-63cc-435b-ce0d-e7b49f44fe81",
        "colab": {
          "base_uri": "https://localhost:8080/"
        }
      },
      "source": [
        "#@title Import from Drive\n",
        "\n",
        "Mode = \"workspace\" #@param [\"workspace\", \"data_src\", \"data_dst\", \"data_src aligned\", \"data_dst aligned\", \"models\"]\n",
        "Archive_name = \"workspace.zip\" #@param {type:\"string\"}\n",
        "\n",
        "#Mount Google Drive as folder\n",
        "from google.colab import drive\n",
        "drive.mount('/content/drive')\n",
        "\n",
        "def zip_and_copy(path, mode):\n",
        "  unzip_cmd=\" -q \"+Archive_name\n",
        "  \n",
        "  %cd $path\n",
        "  copy_cmd = \"/content/drive/My\\ Drive/\"+Archive_name+\" \"+path\n",
        "  !cp $copy_cmd\n",
        "  !unzip $unzip_cmd    \n",
        "  !rm $Archive_name\n",
        "\n",
        "if Mode == \"workspace\":\n",
        "  zip_and_copy(\"/content\", \"workspace\")\n",
        "elif Mode == \"data_src\":\n",
        "  zip_and_copy(\"/content/workspace\", \"data_src\")\n",
        "elif Mode == \"data_dst\":\n",
        "  zip_and_copy(\"/content/workspace\", \"data_dst\")\n",
        "elif Mode == \"data_src aligned\":\n",
        "  zip_and_copy(\"/content/workspace/data_src\", \"aligned\")\n",
        "elif Mode == \"data_dst aligned\":\n",
        "  zip_and_copy(\"/content/workspace/data_dst\", \"aligned\")\n",
        "elif Mode == \"models\":\n",
        "  zip_and_copy(\"/content/workspace\", \"model\")\n",
        "  \n",
        "print(\"Done!\")\n",
        "\n"
      ],
      "execution_count": 13,
      "outputs": [
        {
          "output_type": "stream",
          "name": "stdout",
          "text": [
            "Drive already mounted at /content/drive; to attempt to forcibly remount, call drive.mount(\"/content/drive\", force_remount=True).\n",
            "/content\n",
            "Done!\n"
          ]
        }
      ]
    },
    {
      "cell_type": "markdown",
      "metadata": {
        "id": "WTuyUxgdLA13"
      },
      "source": [
        "## Train model\n",
        "\n",
        "* Choose your model type, but SAEHD is recommend for everyone\n",
        "* Set model options on output field\n",
        "* You can see preview manually, if go to model folder in filemanager and double click on preview.jpg file\n",
        "* Your workspace will be archived and upload to mounted Drive after 11 hours from start session\n",
        "* If you select \"Backup_every_hour\" option, your workspace will be backed up every hour.\n",
        "* Also, you can export your workspace manually in \"Manage workspace\" block\n",
        "* \"Silent_Start\" option provides to automatically start with best GPU and last used model. "
      ]
    },
    {
      "cell_type": "code",
      "metadata": {
        "id": "Z0Kya-PJLDhv",
        "outputId": "a8d7c2b1-e6fb-4ab8-c036-022f8d3cd3b7",
        "colab": {
          "base_uri": "https://localhost:8080/"
        }
      },
      "source": [
        "#@title Training\n",
        "Model = \"SAEHD\" #@param [\"SAEHD\", \"AMP\", \"Quick96\", \"XSeg\"]\n",
        "Backup_every_hour = True #@param {type:\"boolean\"}\n",
        "Silent_Start = True #@param {type:\"boolean\"}\n",
        "\n",
        "%cd \"/content\"\n",
        "\n",
        "#Mount Google Drive as folder\n",
        "from google.colab import drive\n",
        "drive.mount('/content/drive')\n",
        "\n",
        "import psutil, os, time\n",
        "\n",
        "p = psutil.Process(os.getpid())\n",
        "uptime = time.time() - p.create_time()\n",
        "\n",
        "if (Backup_every_hour):\n",
        "  if not os.path.exists('workspace.zip'):\n",
        "    print(\"Creating workspace archive ...\")\n",
        "    !zip -r -q workspace.zip workspace\n",
        "    print(\"Archive created!\")\n",
        "  else:\n",
        "    print(\"Archive exist!\")\n",
        "\n",
        "if (Backup_every_hour):\n",
        "  print(\"Time to end session: \"+str(round((43200-uptime)/1200))+\" hours\")\n",
        "  backup_time = str(1200)\n",
        "  backup_cmd = \" --execute-program -\"+backup_time+\" \\\"import os; os.system('zip -r -q workspace.zip workspace/model'); os.system('cp /content/workspace.zip /content/drive/My\\ Drive/'); print('Backed up!') \\\"\" \n",
        "elif (round(39600-uptime) > 0):\n",
        "  print(\"Time to backup: \"+str(round((39600-uptime)/1200))+\" hours\")\n",
        "  backup_time = str(round(39600-uptime))\n",
        "  backup_cmd = \" --execute-program \"+backup_time+\" \\\"import os; os.system('zip -r -q workspace.zip workspace'); os.system('cp /content/workspace.zip /content/drive/My\\ Drive/'); print('Backed up!') \\\"\" \n",
        "else:\n",
        "  print(\"Session expires in less than an hour.\")\n",
        "  backup_cmd = \"\"\n",
        "    \n",
        "cmd = \"deep_fc/main.py train --training-data-src-dir workspace/data_src/aligned --training-data-dst-dir workspace/data_dst/aligned --pretraining-data-dir pretrain --model-dir workspace/model --model \"+Model\n",
        "\n",
        "if Model == \"Quick96\":\n",
        "  cmd+= \" --pretrained-model-dir pretrain_Q96\"\n",
        "\n",
        "if Silent_Start:\n",
        "  cmd+= \" --silent-start\"\n",
        "\n",
        "if (backup_cmd != \"\"):\n",
        "  train_cmd = (cmd+backup_cmd)\n",
        "else:\n",
        "  train_cmd = (cmd)\n",
        "\n",
        "!python $train_cmd"
      ],
      "execution_count": null,
      "outputs": [
        {
          "output_type": "stream",
          "name": "stdout",
          "text": [
            "/content\n",
            "Drive already mounted at /content/drive; to attempt to forcibly remount, call drive.mount(\"/content/drive\", force_remount=True).\n",
            "Creating workspace archive ...\n",
            "Archive created!\n",
            "Time to end session: 33 hours\n",
            "Running trainer.\n",
            "\n",
            "Silent start: choosed model \"kate\"\n",
            "Loading kate_SAEHD model...\n",
            "Silent start: choosed device Tesla T4\n",
            "Initializing models: 100% 5/5 [00:06<00:00,  1.39s/it]\n",
            "Loaded 12578 packed faces from /content/workspace/data_src/aligned\n",
            "Loaded 13079 packed faces from /content/workspace/data_dst/aligned\n",
            "============ Model Summary ============\n",
            "==                                   ==\n",
            "==            Model name: kate_SAEHD ==\n",
            "==                                   ==\n",
            "==     Current iteration: 3587608    ==\n",
            "==                                   ==\n",
            "==---------- Model Options ----------==\n",
            "==                                   ==\n",
            "==            resolution: 128        ==\n",
            "==             face_type: wf         ==\n",
            "==     models_opt_on_gpu: True       ==\n",
            "==                 archi: liae-ud    ==\n",
            "==               ae_dims: 256        ==\n",
            "==                e_dims: 64         ==\n",
            "==                d_dims: 64         ==\n",
            "==           d_mask_dims: 22         ==\n",
            "==       masked_training: True       ==\n",
            "==       eyes_mouth_prio: True       ==\n",
            "==           uniform_yaw: False      ==\n",
            "==         blur_out_mask: False      ==\n",
            "==             adabelief: True       ==\n",
            "==            lr_dropout: y          ==\n",
            "==           random_warp: False      ==\n",
            "==      random_hsv_power: 0.0        ==\n",
            "==       true_face_power: 0.0        ==\n",
            "==      face_style_power: 0.0        ==\n",
            "==        bg_style_power: 0.0        ==\n",
            "==               ct_mode: none       ==\n",
            "==              clipgrad: False      ==\n",
            "==              pretrain: False      ==\n",
            "==       autobackup_hour: 8          ==\n",
            "== write_preview_history: False      ==\n",
            "==           target_iter: 0          ==\n",
            "==       random_src_flip: True       ==\n",
            "==       random_dst_flip: False      ==\n",
            "==            batch_size: 4          ==\n",
            "==             gan_power: 0.0        ==\n",
            "==        gan_patch_size: 16         ==\n",
            "==              gan_dims: 16         ==\n",
            "==                                   ==\n",
            "==----------- Running On ------------==\n",
            "==                                   ==\n",
            "==          Device index: 0          ==\n",
            "==                  Name: Tesla T4   ==\n",
            "==                  VRAM: 13.47GB    ==\n",
            "==                                   ==\n",
            "=======================================\n",
            "Starting. Press \"Enter\" to stop training and save model.\n",
            "[04:19:53][#3589687][0418ms][0.7748][0.3530]"
          ]
        }
      ]
    },
    {
      "cell_type": "markdown",
      "source": [
        "# Unzip drive content"
      ],
      "metadata": {
        "id": "x738Zso45OgC"
      }
    },
    {
      "cell_type": "code",
      "source": [
        "#!unzip /content/drive/MyDrive/data_dst_dp.zip -d /content/workspace/data_dst"
      ],
      "metadata": {
        "id": "Y-KaCPdS5YOb"
      },
      "execution_count": null,
      "outputs": []
    },
    {
      "cell_type": "markdown",
      "source": [
        "# Remove folders"
      ],
      "metadata": {
        "id": "M82zVjLy5xld"
      }
    },
    {
      "cell_type": "code",
      "source": [
        "#!rm -rf \"/content/workspace\"\n"
      ],
      "metadata": {
        "id": "09Jrbgzx55Vw"
      },
      "execution_count": 12,
      "outputs": []
    }
  ]
}